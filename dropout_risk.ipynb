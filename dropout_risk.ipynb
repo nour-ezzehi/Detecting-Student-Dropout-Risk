{
  "nbformat": 4,
  "nbformat_minor": 0,
  "metadata": {
    "colab": {
      "provenance": [],
      "authorship_tag": "ABX9TyMmrMA5wxChCmXd4+3EQa+A",
      "include_colab_link": true
    },
    "kernelspec": {
      "name": "python3",
      "display_name": "Python 3"
    },
    "language_info": {
      "name": "python"
    }
  },
  "cells": [
    {
      "cell_type": "markdown",
      "metadata": {
        "id": "view-in-github",
        "colab_type": "text"
      },
      "source": [
        "<a href=\"https://colab.research.google.com/github/nour-ezzehi/Detecting-Student-Dropout-Risk/blob/main/dropout_risk.ipynb\" target=\"_parent\"><img src=\"https://colab.research.google.com/assets/colab-badge.svg\" alt=\"Open In Colab\"/></a>"
      ]
    },
    {
      "cell_type": "code",
      "execution_count": 12,
      "metadata": {
        "id": "3uvQWxZfyZgY"
      },
      "outputs": [],
      "source": [
        "import pandas as pd\n",
        "import numpy as np\n",
        "from sklearn.model_selection import train_test_split\n",
        "from sklearn.preprocessing import StandardScaler\n",
        "from xgboost import XGBClassifier\n",
        "from sklearn.metrics import classification_report"
      ]
    },
    {
      "cell_type": "code",
      "source": [
        "def load_data():\n",
        "    data = {\n",
        "        'student_id': range(1000),\n",
        "        'grade_avg': np.random.normal(75, 10, 1000),\n",
        "        'attendance_rate': np.random.uniform(0.6, 1.0, 1000),\n",
        "        'lms_logins': np.random.poisson(20, 1000),\n",
        "        'discussion_posts': np.random.poisson(5, 1000),\n",
        "        'late_submissions': np.random.poisson(3, 1000),\n",
        "        'socio_economic_status': np.random.choice(['low', 'medium', 'high'], 1000),\n",
        "        'commute_time': np.random.uniform(10, 60, 1000),\n",
        "        'extracurricular_hours': np.random.uniform(0, 15, 1000),\n",
        "        'dropout': np.random.choice([0, 1], 1000, p=[0.8, 0.2])\n",
        "        }\n",
        "    return pd.DataFrame(data)\n"
      ],
      "metadata": {
        "id": "FKlcTC_NykTO"
      },
      "execution_count": 7,
      "outputs": []
    },
    {
      "cell_type": "code",
      "source": [
        "def engineer_features(df):\n",
        "    df['grade_trend'] = df['grade_avg'].diff().fillna(0)\n",
        "\n",
        "    df['lms_engagement'] = df['lms_logins'] * df['discussion_posts']\n",
        "\n",
        "    df['high_absence'] = (df['attendance_rate'] < 0.8).astype(int)\n",
        "    df['frequent_late'] = (df['late_submissions'] > 5).astype(int)\n",
        "\n",
        "    df = pd.get_dummies(df, columns=['socio_economic_status'], drop_first=True)\n",
        "\n",
        "    return df"
      ],
      "metadata": {
        "id": "oWgw8bTFypLw"
      },
      "execution_count": 9,
      "outputs": []
    },
    {
      "cell_type": "code",
      "source": [
        "def train_model(df):\n",
        "    features = [col for col in df.columns if col not in ['student_id', 'dropout']]\n",
        "    X = df[features]\n",
        "    y = df['dropout']\n",
        "\n",
        "    X_train, X_test, y_train, y_test = train_test_split(X, y, test_size=0.2, random_state=42)\n",
        "\n",
        "    scaler = StandardScaler()\n",
        "    X_train_scaled = scaler.fit_transform(X_train)\n",
        "    X_test_scaled = scaler.transform(X_test)\n",
        "\n",
        "    model = XGBClassifier(n_estimators=100, learning_rate=0.1, random_state=42)\n",
        "    model.fit(X_train_scaled, y_train)\n",
        "\n",
        "    y_pred = model.predict(X_test_scaled)\n",
        "    print(\"Model Performance:\")\n",
        "    print(classification_report(y_test, y_pred))\n",
        "\n",
        "    return model, scaler"
      ],
      "metadata": {
        "id": "7NUIgag3zLLG"
      },
      "execution_count": 14,
      "outputs": []
    },
    {
      "cell_type": "code",
      "source": [
        "def main():\n",
        "\n",
        "    df = load_data()\n",
        "    df = engineer_features(df)\n",
        "\n",
        "    model, scaler = train_model(df)\n",
        "\n",
        "    new_student = df.iloc[0:1].drop(['student_id', 'dropout'], axis=1)\n",
        "    new_student_scaled = scaler.transform(new_student)\n",
        "    risk_score = model.predict_proba(new_student_scaled)[0][1]\n",
        "    print(f\"Predicted dropout risk for new student: {risk_score:.2%}\")\n",
        "\n",
        "if __name__ == \"__main__\":\n",
        "    main()"
      ],
      "metadata": {
        "colab": {
          "base_uri": "https://localhost:8080/"
        },
        "id": "kXmdxD-JzNm4",
        "outputId": "f7278456-1496-4b37-a13c-65ad5b6c6ec8"
      },
      "execution_count": 15,
      "outputs": [
        {
          "output_type": "stream",
          "name": "stdout",
          "text": [
            "Model Performance:\n",
            "              precision    recall  f1-score   support\n",
            "\n",
            "           0       0.84      0.97      0.90       168\n",
            "           1       0.17      0.03      0.05        32\n",
            "\n",
            "    accuracy                           0.82       200\n",
            "   macro avg       0.50      0.50      0.48       200\n",
            "weighted avg       0.73      0.82      0.76       200\n",
            "\n",
            "Predicted dropout risk for new student: 14.13%\n"
          ]
        }
      ]
    },
    {
      "cell_type": "code",
      "source": [],
      "metadata": {
        "id": "Mkk3niGTzZbk"
      },
      "execution_count": null,
      "outputs": []
    }
  ]
}